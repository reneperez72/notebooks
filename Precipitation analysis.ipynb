{
    "cells": [
        {
            "cell_type": "code",
            "execution_count": 1,
            "metadata": {},
            "outputs": [
                {
                    "name": "stdout",
                    "output_type": "stream",
                    "text": "Waiting for a Spark session to start...\nSpark Initialization Done! ApplicationId = app-20210810025429-0000\nKERNEL_ID = f816c251-cfaf-43f5-a4bd-d6bcd7cd4c5e\n"
                },
                {
                    "data": {
                        "text/plain": "[Row(Country or Area='Albania', Year='2007', Value='30964', Value Footnotes=None, Unit='million cubic metres'),\n Row(Country or Area='Albania', Year='2006', Value='32380', Value Footnotes=None, Unit='million cubic metres'),\n Row(Country or Area='Albania', Year='2005', Value='42840', Value Footnotes=None, Unit='million cubic metres'),\n Row(Country or Area='Albania', Year='2004', Value='42787', Value Footnotes=None, Unit='million cubic metres'),\n Row(Country or Area='Albania', Year='2003', Value='27893', Value Footnotes=None, Unit='million cubic metres')]"
                    },
                    "execution_count": 1,
                    "metadata": {},
                    "output_type": "execute_result"
                }
            ],
            "source": "# The code was removed by Watson Studio for sharing."
        }
    ],
    "metadata": {
        "kernelspec": {
            "display_name": "Python 3.7 with Spark",
            "language": "python3",
            "name": "python37"
        },
        "language_info": {
            "codemirror_mode": {
                "name": "ipython",
                "version": 3
            },
            "file_extension": ".py",
            "mimetype": "text/x-python",
            "name": "python",
            "nbconvert_exporter": "python",
            "pygments_lexer": "ipython3",
            "version": "3.7.10"
        }
    },
    "nbformat": 4,
    "nbformat_minor": 1
}